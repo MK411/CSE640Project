{
 "cells": [
  {
   "cell_type": "code",
   "execution_count": 595,
   "metadata": {},
   "outputs": [],
   "source": [
    "import numpy as np\n",
    "import pandas as pd\n",
    "import csv\n",
    "import pylab as pl\n",
    "from matplotlib import collections  as mc"
   ]
  },
  {
   "cell_type": "code",
   "execution_count": 596,
   "metadata": {},
   "outputs": [
    {
     "data": {
      "text/plain": [
       "'class Tree:\\n    def __init__(self):\\n        self.root=None\\n        self.graph={}\\n        self.weights={}\\n    def set_edge(self,u,v,d):\\n        if not u in self.graph:\\n            self.graph[u]={}\\n            self.weights[u]=0\\n        self.graph[u][v]=d\\n        if not v in self.graph:\\n            self.graph[v]={}\\n            self.weights[v]=0\\n        self.graph[v][u]=d\\n    def __str__(self):\\n        return str(self.graph)\\n    def analysis(self):\\n        pass'"
      ]
     },
     "execution_count": 596,
     "metadata": {},
     "output_type": "execute_result"
    }
   ],
   "source": [
    "'''class Tree:\n",
    "    def __init__(self):\n",
    "        self.root=None\n",
    "        self.graph={}\n",
    "        self.weights={}\n",
    "    def set_edge(self,u,v,d):\n",
    "        if not u in self.graph:\n",
    "            self.graph[u]={}\n",
    "            self.weights[u]=0\n",
    "        self.graph[u][v]=d\n",
    "        if not v in self.graph:\n",
    "            self.graph[v]={}\n",
    "            self.weights[v]=0\n",
    "        self.graph[v][u]=d\n",
    "    def __str__(self):\n",
    "        return str(self.graph)\n",
    "    def analysis(self):\n",
    "        pass'''"
   ]
  },
  {
   "cell_type": "code",
   "execution_count": 597,
   "metadata": {},
   "outputs": [],
   "source": [
    "class NbyNTable:\n",
    "    def __init__(self,l:np.ndarray):\n",
    "        self.namelist=l\n",
    "        self.table=np.zeros((len(l),len(l)))\n",
    "    def get(self,name1,name2):\n",
    "        return float(self.table[np.where(self.namelist==name1)[0],np.where(self.namelist==name2)[0]])\n",
    "    def getrow(self,name1):\n",
    "        return self.table[np.where(self.namelist==name1)[0]]\n",
    "    def getcol(self,name2):\n",
    "        return self.table[np.where(self.namelist==name2)[0]]\n",
    "    def set(self,name1,name2,v):\n",
    "        self.table[np.where(self.namelist==name1)[0],np.where(self.namelist==name2)[0]]=v\n",
    "        return 0\n",
    "    def clear(self,v=0):\n",
    "        self.table.fill(v)\n",
    "    def express(self,trivial_value=0):\n",
    "        for i in range(self.table.shape[0]):\n",
    "            for j in range(self.table.shape[1]):\n",
    "                if self.get(self.namelist[i],self.namelist[j])!=trivial_value:\n",
    "                    print(self.namelist[i],\"->\",self.namelist[j],\":\",self.get(self.namelist[i],self.namelist[j]))\n",
    "                "
   ]
  },
  {
   "cell_type": "code",
   "execution_count": 598,
   "metadata": {},
   "outputs": [],
   "source": [
    "class UDG:\n",
    "    def __init__(self,is_udg=True):\n",
    "        self.is_udg=is_udg\n",
    "        self.graph={}\n",
    "        self.weights={}\n",
    "    def set_edge(self,u,v,d):\n",
    "        if not u in self.graph:\n",
    "            self.graph[u]={}\n",
    "            self.weights[u]=0\n",
    "        self.graph[u][v]=d\n",
    "        if not self.is_udg:return\n",
    "        if not v in self.graph:\n",
    "            self.graph[v]={}\n",
    "            self.weights[v]=0\n",
    "        self.graph[v][u]=d\n",
    "    def del_edge(self,u,v):\n",
    "        self.graph[u].pop(v,None)\n",
    "        if not self.is_udg:return\n",
    "        self.graph[v].pop(u,None)\n",
    "    def __str__(self):\n",
    "        return str(self.graph)\n",
    "    def getnodes(self):\n",
    "        return self.graph.keys()\n",
    "    def getgraph(self):\n",
    "        return self.graph\n",
    "    def getSPT(self,n,from_root=True):\n",
    "        if n not in self.graph:\n",
    "            raise ValueError(\"n not in graph!\")\n",
    "        else:\n",
    "            dis={}\n",
    "            pi={}\n",
    "            vis={}\n",
    "            for i in self.graph:\n",
    "                dis[i]=np.inf\n",
    "                pi[i]=None\n",
    "                vis[i]=False\n",
    "            dis[n]=0\n",
    "            queue=[n]\n",
    "            vis[n]=True\n",
    "            while len(queue)>0:\n",
    "                u=queue.pop(0)\n",
    "                for v in self.graph[u]:\n",
    "                    if not vis[v] and v not in queue:\n",
    "                        queue.append(v)\n",
    "                        vis[v]=True\n",
    "                    if dis[v]>dis[u]+self.graph[u][v]:\n",
    "                        dis[v]=dis[u]+self.graph[u][v]\n",
    "                        pi[v]=u\n",
    "            spt=UDG(is_udg=False)\n",
    "            for u in pi:\n",
    "                if not(u is None or pi[u] is None):\n",
    "                    if from_root:\n",
    "                        spt.set_edge(pi[u],u,self.graph[u][pi[u]])\n",
    "                    else:\n",
    "                        spt.set_edge(u,pi[u],self.graph[u][pi[u]])\n",
    "            spt.weights=self.weights.copy()\n",
    "            return spt\n",
    "    def traffic(self,table:NbyNTable,cities):\n",
    "        len_table=len(table.table)\n",
    "        edge_traffic=NbyNTable(table.namelist)\n",
    "        distance_table=NbyNTable(table.namelist)\n",
    "        distance_table.table.fill(np.inf)\n",
    "        transfer_traffic=np.zeros(len_table)\n",
    "        for n in self.getnodes():\n",
    "            dis={}\n",
    "            pi={}\n",
    "            vis={}\n",
    "            for i in self.graph:\n",
    "                dis[i]=np.inf\n",
    "                pi[i]=None\n",
    "                vis[i]=False\n",
    "            dis[n]=0\n",
    "            queue=[n]\n",
    "            vis[n]=True\n",
    "            while len(queue)>0:\n",
    "                u=queue.pop(0)\n",
    "                for v in self.graph[u]:\n",
    "                    if not vis[v] and v not in queue:\n",
    "                        queue.append(v)\n",
    "                        vis[v]=True\n",
    "                    if dis[v]>dis[u]+self.graph[u][v]:\n",
    "                        dis[v]=dis[u]+self.graph[u][v]\n",
    "                        pi[v]=u\n",
    "            #print(n,pi)\n",
    "            # pi is to the root, j->i\n",
    "            for i in range(len_table):\n",
    "                iname=table.namelist[i]\n",
    "                if iname in pi:\n",
    "                    tempname=iname[:]\n",
    "                    while tempname!=n:\n",
    "                        nextname=pi[tempname]\n",
    "                        edge_traffic.set(nextname,tempname,edge_traffic.get(nextname,tempname)+table.get(n,iname))\n",
    "                        if nextname!=n:\n",
    "                            transfer_traffic[np.where(table.namelist==nextname)[0][0]]+=table.get(n,iname)\n",
    "                        tempname=nextname\n",
    "                    tempname=iname[:]\n",
    "                    d=0\n",
    "                    while tempname!=n:\n",
    "                        nextname=pi[tempname]\n",
    "                        d+=distance(cities,nextname,tempname)\n",
    "                        tempname=nextname\n",
    "                    distance_table.set(n,iname,d)\n",
    "                    distance_table.set(iname,n,d)\n",
    "        return edge_traffic,distance_table,transfer_traffic\n",
    "    def sum_length(self,cities):\n",
    "        d=0\n",
    "        for m in self.getnodes():\n",
    "            for n in self.graph[m]:\n",
    "                d+=distance(cities,m,n)\n",
    "        if self.is_udg:\n",
    "            d/=2\n",
    "        return d\n",
    "    def visualize(self):\n",
    "        def getcoord(cities,name):\n",
    "            name=name.split(\",\")\n",
    "            name1=name[0]\n",
    "            name2=name[1]\n",
    "            l=cities.loc[(cities['city'] ==name1) & (cities['state_id'] ==name2)]\n",
    "            return np.float64(l['lng']),np.float64(l['lat'])\n",
    "        lines=[]\n",
    "        for name1 in self.getnodes():\n",
    "            for name2 in self.graph[name1]:\n",
    "                lng1,lat1=getcoord(cities,name1)\n",
    "                lng2,lat2=getcoord(cities,name2)\n",
    "                lines.append([(lng1,lat1),(lng2,lat2)])\n",
    "        c=[(1, 0, 0, 1) for i in lines]\n",
    "        lc = mc.LineCollection(lines, colors=c, linewidths=1)\n",
    "        fig, ax = pl.subplots()\n",
    "        ax.add_collection(lc)\n",
    "        ax.autoscale()\n",
    "        ax.margins(0.1)"
   ]
  },
  {
   "cell_type": "code",
   "execution_count": 599,
   "metadata": {},
   "outputs": [],
   "source": [
    "def distance(cities,city1,city2):\n",
    "    state1=city1.split(',')[1]\n",
    "    city1=city1.split(',')[0]\n",
    "    state2=city2.split(',')[1]\n",
    "    city2=city2.split(',')[0]\n",
    "    x1=np.deg2rad(float(cities.loc[(cities['city']==city1)&(cities['state_id']==state1)]['lng']))\n",
    "    y1=np.deg2rad(float(cities.loc[(cities['city']==city1)&(cities['state_id']==state1)]['lat']))\n",
    "    x2=np.deg2rad(float(cities.loc[(cities['city']==city2)&(cities['state_id']==state2)]['lng']))\n",
    "    y2=np.deg2rad(float(cities.loc[(cities['city']==city2)&(cities['state_id']==state2)]['lat']))\n",
    "    return 6371*np.arccos(np.cos(y1)*np.cos(y2)*np.cos(x1-x2)+np.sin(y1)*np.sin(y2))"
   ]
  },
  {
   "cell_type": "code",
   "execution_count": 600,
   "metadata": {},
   "outputs": [],
   "source": [
    "def addcities(udg:UDG,cities,city1,city2):\n",
    "    if city1!=city2:\n",
    "        udg.set_edge(city1,city2,distance(cities,city1,city2))"
   ]
  },
  {
   "cell_type": "code",
   "execution_count": 601,
   "metadata": {},
   "outputs": [],
   "source": [
    "cities=pd.read_csv('uscities.csv')\n"
   ]
  },
  {
   "cell_type": "code",
   "execution_count": 602,
   "metadata": {},
   "outputs": [
    {
     "data": {
      "text/plain": [
       "'traffic_table=NbyNTable(city_list)'"
      ]
     },
     "execution_count": 602,
     "metadata": {},
     "output_type": "execute_result"
    }
   ],
   "source": [
    "city_names=cities[:100][[\"city\"]].values.reshape(-1)\n",
    "city_states=cities[:100][[\"state_id\"]].values.reshape(-1)\n",
    "city_list=[]\n",
    "for i in range(len(city_names)):\n",
    "    city_list.append(city_names[i]+\",\"+city_states[i])\n",
    "city_list=np.array(city_list)\n",
    "'''traffic_table=NbyNTable(city_list)'''"
   ]
  },
  {
   "cell_type": "code",
   "execution_count": 603,
   "metadata": {},
   "outputs": [],
   "source": [
    "traffic_list=[]\n",
    "with open(\"traffic.csv\") as file:\n",
    "    spamreader = csv.reader(file,delimiter=',')\n",
    "    for row in spamreader:\n",
    "        a=row[0]+','+row[1]\n",
    "        b=row[2]+','+row[3]\n",
    "        c=int(row[4])\n",
    "        traffic_list.append([a,b,c])"
   ]
  },
  {
   "cell_type": "code",
   "execution_count": 604,
   "metadata": {},
   "outputs": [
    {
     "data": {
      "text/plain": [
       "'edge_traffic,distance_table,transfer_traffic=udg.traffic(traffic_table,cities)\\ndistance_table.express(trivial_value=np.inf)\\n#distance_table.express(np.inf)\\nfor i,v in enumerate(transfer_traffic):\\n    if v!=0:\\n        print(f\"{city_list[i]}:{v}\")'"
      ]
     },
     "execution_count": 604,
     "metadata": {},
     "output_type": "execute_result"
    }
   ],
   "source": [
    "'''edge_traffic,distance_table,transfer_traffic=udg.traffic(traffic_table,cities)\n",
    "distance_table.express(trivial_value=np.inf)\n",
    "#distance_table.express(np.inf)\n",
    "for i,v in enumerate(transfer_traffic):\n",
    "    if v!=0:\n",
    "        print(f\"{city_list[i]}:{v}\")'''\n"
   ]
  },
  {
   "cell_type": "code",
   "execution_count": 605,
   "metadata": {},
   "outputs": [
    {
     "data": {
      "text/plain": [
       "'detour_table=detour(distance_table,cities)\\ndetour_table.express(np.inf)'"
      ]
     },
     "execution_count": 605,
     "metadata": {},
     "output_type": "execute_result"
    }
   ],
   "source": [
    "def detour_cost(distance_table:NbyNTable,traffic_table:NbyNTable,cities):\n",
    "    detour_table=NbyNTable(distance_table.namelist)\n",
    "    detour_table.table.fill(np.inf)\n",
    "    n=len(detour_table.namelist)\n",
    "    for i in range(n):\n",
    "        for j in range(n):\n",
    "            if distance_table.table[i,j]!=np.inf:\n",
    "                detour_table.table[i,j]=traffic_table.table[i,j]*(distance_table.table[i,j]-distance(cities,distance_table.namelist[i],distance_table.namelist[j]))\n",
    "    return detour_table\n",
    "'''detour_table=detour(distance_table,cities)\n",
    "detour_table.express(np.inf)'''"
   ]
  },
  {
   "cell_type": "code",
   "execution_count": 606,
   "metadata": {},
   "outputs": [
    {
     "data": {
      "text/plain": [
       "'cost_table=NbyNTable(city_list)\\ncost_table.table=np.multiply(distance_table.table,traffic_table.table)\\ncost_table.express()'"
      ]
     },
     "execution_count": 606,
     "metadata": {},
     "output_type": "execute_result"
    }
   ],
   "source": [
    "'''cost_table=NbyNTable(city_list)\n",
    "cost_table.table=np.multiply(distance_table.table,traffic_table.table)\n",
    "cost_table.express()'''"
   ]
  },
  {
   "cell_type": "code",
   "execution_count": 607,
   "metadata": {},
   "outputs": [
    {
     "data": {
      "image/png": "[encoded data removed]",
      "text/plain": [
       "<Figure size 432x288 with 1 Axes>"
      ]
     },
     "metadata": {
      "needs_background": "light"
     },
     "output_type": "display_data"
    }
   ],
   "source": [
    "# Profit of an edge\n",
    "def build_edges(traffic_list,cities,city_list):\n",
    "    coef=13.5\n",
    "    t_list=[]\n",
    "    udg=UDG()\n",
    "    c_list=[]\n",
    "    traffic_table=NbyNTable(np.array(city_list))\n",
    "    for i,v in enumerate(traffic_list):\n",
    "        if not v[0] in c_list:\n",
    "            c_list.append(v[0])\n",
    "        if not v[1] in c_list:\n",
    "            c_list.append(v[1])\n",
    "        t_list.append([v[0],v[1],v[2],v[2]/distance(cities,v[0],v[1])])\n",
    "        if v[2]/distance(cities,v[0],v[1])>=1/coef:\n",
    "            addcities(udg,cities,v[0],v[1])\n",
    "        else:\n",
    "            traffic_table.set(v[0],v[1],v[2])\n",
    "    #t_list=sorted(t_list,key=lambda x:-x[3])\n",
    "    return udg,traffic_table\n",
    "mygraph,traffic_table=build_edges(traffic_list,cities,city_list)\n",
    "mygraph.visualize()"
   ]
  },
  {
   "cell_type": "code",
   "execution_count": 608,
   "metadata": {},
   "outputs": [],
   "source": [
    "def analyze_route(udg:UDG,name1,name2,cities,traffic_table:NbyNTable):\n",
    "    tra=max(traffic_table.get(name1,name2),traffic_table.get(name2,name1))\n",
    "    coef=15\n",
    "    if tra==0:\n",
    "        return None,0\n",
    "    else:\n",
    "        # SPT based on name2\n",
    "        spt=udg.getSPT(name2,from_root=False)\n",
    "        spt_dist={}\n",
    "        for c in spt.graph:\n",
    "            d=0\n",
    "            temp=c\n",
    "            while temp!=name2:\n",
    "                nextcity=list(spt.graph[temp].keys())[0]\n",
    "                nextdist=list(spt.graph[temp].values())[0]\n",
    "                d+=nextdist\n",
    "                temp=nextcity\n",
    "            spt_dist[c]=d\n",
    "        #print(spt_dist)\n",
    "        #spt_dist=sorted(spt_dist,key=lambda x:x[1])\n",
    "        #print(spt_dist)\n",
    "        d=spt_dist[name1] if name1 in spt_dist else np.inf\n",
    "        current_lowest_cost=(coef+tra)*distance(cities,name1,name2)\n",
    "        current_node=name2\n",
    "        for c in spt_dist:\n",
    "            cost=(coef+tra)*distance(cities,name1,c)+tra*spt_dist[c]\n",
    "            #print(c,cost)\n",
    "            if cost<current_lowest_cost:\n",
    "                current_lowest_cost=cost\n",
    "                current_node=c\n",
    "        return  current_node,current_lowest_cost\n",
    "            \n",
    "            "
   ]
  },
  {
   "cell_type": "code",
   "execution_count": 609,
   "metadata": {},
   "outputs": [],
   "source": [
    "def analyze_route_multi_source(udg:UDG,names1:list[str],name2:str,cities,traffic_table:NbyNTable):\n",
    "    coef=15\n",
    "    tra=0\n",
    "    # SPT based on name2\n",
    "    spt=udg.getSPT(name2,from_root=False)\n",
    "    spt_dist={}\n",
    "    for c in spt.graph:\n",
    "        d=0\n",
    "        temp=c\n",
    "        while temp!=name2:\n",
    "            nextcity=list(spt.graph[temp].keys())[0]\n",
    "            nextdist=list(spt.graph[temp].values())[0]\n",
    "            d+=nextdist\n",
    "            temp=nextcity\n",
    "        spt_dist[c]=d\n",
    "    total_cost={x:0 for x in spt_dist.keys()}\n",
    "    for name1 in names1:\n",
    "        d=spt_dist[name1] if name1 in spt_dist else np.inf\n",
    "        tra=traffic_table.get(name1,name2)\n",
    "        current_cost=tra*d\n",
    "        print(name2,(coef+tra)*distance(cities,name1,name2))\n",
    "        for c in spt_dist:\n",
    "            cost=(coef+tra)*distance(cities,name1,c)+tra*spt_dist[c]\n",
    "            print(c,cost)\n",
    "            total_cost[c]+=cost\n",
    "    for c in total_cost:\n",
    "        print(c,total_cost[c])"
   ]
  },
  {
   "cell_type": "code",
   "execution_count": 610,
   "metadata": {},
   "outputs": [],
   "source": [
    "def analyze_route_multi_dest(udg:UDG,name1:str,names2:list[str],cities,traffic_table:NbyNTable):\n",
    "    coef=15\n",
    "    total_cost={}\n",
    "    for name2 in names2:\n",
    "        if name2 not in total_cost:\n",
    "            total_cost[name2]=0\n",
    "        tra=traffic_table.get(name1,name2)\n",
    "        total_cost[name2]+=(coef+tra)*distance(cities,name2,name1)\n",
    "        spt=udg.getSPT(name2,False)\n",
    "        for c in spt.graph:\n",
    "            d=0\n",
    "            temp=c\n",
    "            while temp!=name2:\n",
    "                nextcity=list(spt.graph[temp].keys())[0]\n",
    "                nextdist=list(spt.graph[temp].values())[0]\n",
    "                d+=nextdist\n",
    "                temp=nextcity\n",
    "            if c not in total_cost:\n",
    "                total_cost[c]=0\n",
    "            total_cost[c]+=(coef+tra)*distance(cities,c,name1)+tra*d\n",
    "    ret_city=min(total_cost,key=total_cost.get)\n",
    "    ret_cost=total_cost[ret_city]\n",
    "    return ret_city,ret_cost"
   ]
  },
  {
   "cell_type": "code",
   "execution_count": 611,
   "metadata": {},
   "outputs": [],
   "source": [
    "def analyze_route_bidirectional(udg:UDG,name1:str,name2:str,cities,traffic_table:NbyNTable):\n",
    "    t1,c1=analyze_route(udg,name1,name2,cities,traffic_table)\n",
    "    t2,c2=analyze_route(udg,name2,name1,cities,traffic_table)\n",
    "    if c1<=c2:\n",
    "        return name1,t1,name2\n",
    "    else:\n",
    "        return name2,t2,name1"
   ]
  },
  {
   "cell_type": "code",
   "execution_count": 612,
   "metadata": {},
   "outputs": [],
   "source": [
    "#traffic_table.express()"
   ]
  },
  {
   "cell_type": "code",
   "execution_count": 613,
   "metadata": {},
   "outputs": [],
   "source": [
    "edge_traffic,distance_table,transfer_traffic=mygraph.traffic(traffic_table,cities)\n",
    "detour_table=detour_cost(distance_table,traffic_table,cities)"
   ]
  },
  {
   "cell_type": "code",
   "execution_count": 614,
   "metadata": {},
   "outputs": [
    {
     "data": {
      "image/png": "[encoded data removed]",
      "text/plain": [
       "<Figure size 432x288 with 1 Axes>"
      ]
     },
     "metadata": {
      "needs_background": "light"
     },
     "output_type": "display_data"
    }
   ],
   "source": [
    "plan_list=[]\n",
    "cost_thr=5000\n",
    "for name1 in detour_table.namelist:\n",
    "    for name2 in detour_table.namelist:\n",
    "        if traffic_table.get(name1,name2)!=0 and detour_table.get(name1,name2)>=cost_thr:\n",
    "            tra=traffic_table.get(name1,name2)\n",
    "            orig_node,transfer_node,dest_node=analyze_route_bidirectional(mygraph,name1,name2,cities,traffic_table)\n",
    "            cost=(15+tra)*distance(cities,orig_node,transfer_node)+tra*distance(cities,transfer_node,dest_node)\n",
    "            \n",
    "            plan_list.append([orig_node,transfer_node,dest_node,cost])\n",
    "plan_list=sorted(plan_list,key=lambda x:x[3])\n",
    "#print(plan_list)\n",
    "addcities(mygraph,cities,plan_list[0][0],plan_list[0][1])\n",
    "for p in plan_list[1:]:\n",
    "    spt=mygraph.getSPT(p[0],False)\n",
    "    d=0\n",
    "    temp=p[2]\n",
    "    while temp!=p[0]:\n",
    "        nexttemp=list(spt.graph[temp].keys())[0]\n",
    "        d+=list(spt.graph[temp].values())[0]\n",
    "        temp=nexttemp\n",
    "    d-=distance(cities,p[0],p[2])\n",
    "    cost=d*(traffic_table.get(p[0],p[2])+traffic_table.get(p[2],p[0]))\n",
    "    if cost>=cost_thr:\n",
    "        addcities(mygraph,cities,p[0],p[1])\n",
    "mygraph.visualize()\n"
   ]
  },
  {
   "cell_type": "code",
   "execution_count": 615,
   "metadata": {},
   "outputs": [
    {
     "data": {
      "text/plain": [
       "'c1=\"Raleigh,NC\"\\nc2s=[\"New York,NY\",\"Los Angeles,CA\",\"Seattle,WA\",\"Miami,FL\"]\\nfor c2 in c2s:\\n    traffic_table.set(c1,c2,50)\\ncity,cost=analyze_route_multi_dest(mygraph,c1,c2s,cities,traffic_table)\\nprint(city)\\naddcities(mygraph,cities,c1,city)\\nmygraph.visualize()'"
      ]
     },
     "execution_count": 615,
     "metadata": {},
     "output_type": "execute_result"
    }
   ],
   "source": [
    "'''c1=\"Raleigh,NC\"\n",
    "c2s=[\"New York,NY\",\"Los Angeles,CA\",\"Seattle,WA\",\"Miami,FL\"]\n",
    "for c2 in c2s:\n",
    "    traffic_table.set(c1,c2,50)\n",
    "city,cost=analyze_route_multi_dest(mygraph,c1,c2s,cities,traffic_table)\n",
    "print(city)\n",
    "addcities(mygraph,cities,c1,city)\n",
    "mygraph.visualize()'''"
   ]
  },
  {
   "cell_type": "code",
   "execution_count": 616,
   "metadata": {},
   "outputs": [
    {
     "data": {
      "text/plain": [
       "56678.6839304752"
      ]
     },
     "execution_count": 616,
     "metadata": {},
     "output_type": "execute_result"
    }
   ],
   "source": [
    "mygraph.sum_length(cities)"
   ]
  },
  {
   "cell_type": "code",
   "execution_count": 617,
   "metadata": {},
   "outputs": [],
   "source": [
    "orig_traffic_table=NbyNTable(city_list)\n",
    "with open(\"traffic.csv\") as file:\n",
    "    spamreader = csv.reader(file,delimiter=',')\n",
    "    for row in spamreader:\n",
    "        a=row[0]+','+row[1]\n",
    "        b=row[2]+','+row[3]\n",
    "        c=int(row[4])\n",
    "        orig_traffic_table.set(a,b,c)\n",
    "edge_traffic,distance_table,transfer_traffic=mygraph.traffic(orig_traffic_table,cities)\n",
    "detour_table=detour_cost(distance_table,traffic_table,cities)\n"
   ]
  },
  {
   "cell_type": "code",
   "execution_count": 618,
   "metadata": {},
   "outputs": [
    {
     "name": "stdout",
     "output_type": "stream",
     "text": [
      "54648.03119396308\n"
     ]
    }
   ],
   "source": [
    "decost=0\n",
    "for i in range(len(detour_table.namelist)):\n",
    "    for j in range(len(detour_table.namelist)):\n",
    "        if detour_table.table[i,j]!=np.inf:\n",
    "            decost+=detour_table.table[i,j]\n",
    "print(decost)"
   ]
  }
 ],
 "metadata": {
  "interpreter": {
   "hash": "0d2be738e21d0d8b4e6cc8d03dec9f04444e3eeec9e4ff8dc5ce4f1cebb4c370"
  },
  "kernelspec": {
   "display_name": "Python 3.9.7 64-bit",
   "language": "python",
   "name": "python3"
  },
  "language_info": {
   "codemirror_mode": {
    "name": "ipython",
    "version": 3
   },
   "file_extension": ".py",
   "mimetype": "text/x-python",
   "name": "python",
   "nbconvert_exporter": "python",
   "pygments_lexer": "ipython3",
   "version": "3.9.7"
  },
  "orig_nbformat": 4
 },
 "nbformat": 4,
 "nbformat_minor": 2
}
